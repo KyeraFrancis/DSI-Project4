{
 "cells": [
  {
   "cell_type": "code",
   "execution_count": 36,
   "metadata": {},
   "outputs": [
    {
     "name": "stdout",
     "output_type": "stream",
     "text": [
      "(308923, 22)\n"
     ]
    },
    {
     "data": {
      "text/html": [
       "<div>\n",
       "<style scoped>\n",
       "    .dataframe tbody tr th:only-of-type {\n",
       "        vertical-align: middle;\n",
       "    }\n",
       "\n",
       "    .dataframe tbody tr th {\n",
       "        vertical-align: top;\n",
       "    }\n",
       "\n",
       "    .dataframe thead th {\n",
       "        text-align: right;\n",
       "    }\n",
       "</style>\n",
       "<table border=\"1\" class=\"dataframe\">\n",
       "  <thead>\n",
       "    <tr style=\"text-align: right;\">\n",
       "      <th></th>\n",
       "      <th>full_name</th>\n",
       "      <th>gsis_id</th>\n",
       "      <th>season_20</th>\n",
       "      <th>season_21</th>\n",
       "      <th>season_x</th>\n",
       "      <th>team_x</th>\n",
       "      <th>position_x_x</th>\n",
       "      <th>status</th>\n",
       "      <th>height</th>\n",
       "      <th>weight</th>\n",
       "      <th>...</th>\n",
       "      <th>years_exp</th>\n",
       "      <th>injury_category</th>\n",
       "      <th>report_primary_injury_x</th>\n",
       "      <th>report_secondary_injury</th>\n",
       "      <th>practice_primary_injury</th>\n",
       "      <th>practice_secondary_injury</th>\n",
       "      <th>report_status_x</th>\n",
       "      <th>practice_status_x</th>\n",
       "      <th>days_since_last_injury</th>\n",
       "      <th>previous_injuries_count</th>\n",
       "    </tr>\n",
       "  </thead>\n",
       "  <tbody>\n",
       "    <tr>\n",
       "      <th>0</th>\n",
       "      <td>a'shawn robinson</td>\n",
       "      <td>00-0032889</td>\n",
       "      <td>NaN</td>\n",
       "      <td>NaN</td>\n",
       "      <td>2022</td>\n",
       "      <td>LA</td>\n",
       "      <td>DT</td>\n",
       "      <td>RES</td>\n",
       "      <td>76.0</td>\n",
       "      <td>330.0</td>\n",
       "      <td>...</td>\n",
       "      <td>6.0</td>\n",
       "      <td>Other</td>\n",
       "      <td>Illness</td>\n",
       "      <td>NaN</td>\n",
       "      <td>Illness</td>\n",
       "      <td>NaN</td>\n",
       "      <td>Questionable</td>\n",
       "      <td>Did Not Participate In Practice</td>\n",
       "      <td>0.0</td>\n",
       "      <td>0</td>\n",
       "    </tr>\n",
       "    <tr>\n",
       "      <th>1</th>\n",
       "      <td>a'shawn robinson</td>\n",
       "      <td>00-0032889</td>\n",
       "      <td>NaN</td>\n",
       "      <td>NaN</td>\n",
       "      <td>2022</td>\n",
       "      <td>LA</td>\n",
       "      <td>DT</td>\n",
       "      <td>ACT</td>\n",
       "      <td>76.0</td>\n",
       "      <td>330.0</td>\n",
       "      <td>...</td>\n",
       "      <td>6.0</td>\n",
       "      <td>Other</td>\n",
       "      <td>Illness</td>\n",
       "      <td>NaN</td>\n",
       "      <td>Illness</td>\n",
       "      <td>NaN</td>\n",
       "      <td>Questionable</td>\n",
       "      <td>Did Not Participate In Practice</td>\n",
       "      <td>0.0</td>\n",
       "      <td>1</td>\n",
       "    </tr>\n",
       "    <tr>\n",
       "      <th>2</th>\n",
       "      <td>a'shawn robinson</td>\n",
       "      <td>00-0032889</td>\n",
       "      <td>NaN</td>\n",
       "      <td>NaN</td>\n",
       "      <td>2022</td>\n",
       "      <td>LA</td>\n",
       "      <td>DT</td>\n",
       "      <td>RES</td>\n",
       "      <td>76.0</td>\n",
       "      <td>330.0</td>\n",
       "      <td>...</td>\n",
       "      <td>6.0</td>\n",
       "      <td>Other</td>\n",
       "      <td>Illness</td>\n",
       "      <td>NaN</td>\n",
       "      <td>Illness</td>\n",
       "      <td>NaN</td>\n",
       "      <td>Questionable</td>\n",
       "      <td>Did Not Participate In Practice</td>\n",
       "      <td>0.0</td>\n",
       "      <td>2</td>\n",
       "    </tr>\n",
       "    <tr>\n",
       "      <th>3</th>\n",
       "      <td>a'shawn robinson</td>\n",
       "      <td>00-0032889</td>\n",
       "      <td>NaN</td>\n",
       "      <td>NaN</td>\n",
       "      <td>2022</td>\n",
       "      <td>LA</td>\n",
       "      <td>DT</td>\n",
       "      <td>RES</td>\n",
       "      <td>76.0</td>\n",
       "      <td>330.0</td>\n",
       "      <td>...</td>\n",
       "      <td>6.0</td>\n",
       "      <td>Other</td>\n",
       "      <td>Illness</td>\n",
       "      <td>NaN</td>\n",
       "      <td>Illness</td>\n",
       "      <td>NaN</td>\n",
       "      <td>Questionable</td>\n",
       "      <td>Did Not Participate In Practice</td>\n",
       "      <td>0.0</td>\n",
       "      <td>3</td>\n",
       "    </tr>\n",
       "    <tr>\n",
       "      <th>4</th>\n",
       "      <td>a'shawn robinson</td>\n",
       "      <td>00-0032889</td>\n",
       "      <td>NaN</td>\n",
       "      <td>NaN</td>\n",
       "      <td>2022</td>\n",
       "      <td>LA</td>\n",
       "      <td>DT</td>\n",
       "      <td>RES</td>\n",
       "      <td>76.0</td>\n",
       "      <td>330.0</td>\n",
       "      <td>...</td>\n",
       "      <td>6.0</td>\n",
       "      <td>Other</td>\n",
       "      <td>Illness</td>\n",
       "      <td>NaN</td>\n",
       "      <td>Illness</td>\n",
       "      <td>NaN</td>\n",
       "      <td>Questionable</td>\n",
       "      <td>Did Not Participate In Practice</td>\n",
       "      <td>0.0</td>\n",
       "      <td>4</td>\n",
       "    </tr>\n",
       "  </tbody>\n",
       "</table>\n",
       "<p>5 rows × 22 columns</p>\n",
       "</div>"
      ],
      "text/plain": [
       "          full_name     gsis_id  season_20  season_21  season_x team_x  \\\n",
       "0  a'shawn robinson  00-0032889        NaN        NaN      2022     LA   \n",
       "1  a'shawn robinson  00-0032889        NaN        NaN      2022     LA   \n",
       "2  a'shawn robinson  00-0032889        NaN        NaN      2022     LA   \n",
       "3  a'shawn robinson  00-0032889        NaN        NaN      2022     LA   \n",
       "4  a'shawn robinson  00-0032889        NaN        NaN      2022     LA   \n",
       "\n",
       "  position_x_x status  height  weight  ... years_exp  injury_category  \\\n",
       "0           DT    RES    76.0   330.0  ...       6.0            Other   \n",
       "1           DT    ACT    76.0   330.0  ...       6.0            Other   \n",
       "2           DT    RES    76.0   330.0  ...       6.0            Other   \n",
       "3           DT    RES    76.0   330.0  ...       6.0            Other   \n",
       "4           DT    RES    76.0   330.0  ...       6.0            Other   \n",
       "\n",
       "   report_primary_injury_x report_secondary_injury practice_primary_injury  \\\n",
       "0                  Illness                     NaN                 Illness   \n",
       "1                  Illness                     NaN                 Illness   \n",
       "2                  Illness                     NaN                 Illness   \n",
       "3                  Illness                     NaN                 Illness   \n",
       "4                  Illness                     NaN                 Illness   \n",
       "\n",
       "  practice_secondary_injury report_status_x                practice_status_x  \\\n",
       "0                       NaN    Questionable  Did Not Participate In Practice   \n",
       "1                       NaN    Questionable  Did Not Participate In Practice   \n",
       "2                       NaN    Questionable  Did Not Participate In Practice   \n",
       "3                       NaN    Questionable  Did Not Participate In Practice   \n",
       "4                       NaN    Questionable  Did Not Participate In Practice   \n",
       "\n",
       "  days_since_last_injury previous_injuries_count  \n",
       "0                    0.0                       0  \n",
       "1                    0.0                       1  \n",
       "2                    0.0                       2  \n",
       "3                    0.0                       3  \n",
       "4                    0.0                       4  \n",
       "\n",
       "[5 rows x 22 columns]"
      ]
     },
     "execution_count": 36,
     "metadata": {},
     "output_type": "execute_result"
    }
   ],
   "source": [
    "import pandas as pd\n",
    "import numpy as np\n",
    "import matplotlib.pyplot as plt\n",
    "import seaborn as sns\n",
    "\n",
    "#SKLEARN\n",
    "from sklearn.linear_model import LinearRegression, LogisticRegression, Ridge, Lasso\n",
    "from sklearn.metrics import accuracy_score, mean_squared_error, r2_score, precision_score, recall_score, f1_score, roc_auc_score, roc_curve\n",
    "from sklearn.preprocessing import PolynomialFeatures, StandardScaler\n",
    "from sklearn.model_selection import train_test_split, cross_val_score, learning_curve\n",
    "\n",
    "\n",
    "# Read in the data\n",
    "data = pd.read_csv('../2_DataCleaning/cleaned_data/clean_merged_data.csv', index_col=0)\n",
    "print(data.shape)\n",
    "data.head()"
   ]
  },
  {
   "cell_type": "code",
   "execution_count": 5,
   "metadata": {},
   "outputs": [
    {
     "data": {
      "text/plain": [
       "(full_name                         0\n",
       " gsis_id                           0\n",
       " season_20                    182799\n",
       " season_21                    160785\n",
       " season_x                          0\n",
       " team_x                            0\n",
       " position_x_x                      0\n",
       " status                            2\n",
       " height                            2\n",
       " weight                            2\n",
       " birth_date                        2\n",
       " age_at_injury                     2\n",
       " years_exp                         2\n",
       " injury_category                   0\n",
       " report_primary_injury_x      154043\n",
       " report_secondary_injury      293557\n",
       " practice_primary_injury        1555\n",
       " practice_secondary_injury    279602\n",
       " report_status_x              154043\n",
       " practice_status_x                 0\n",
       " days_since_last_injury            0\n",
       " previous_injuries_count           0\n",
       " dtype: int64,\n",
       " full_name                     object\n",
       " gsis_id                       object\n",
       " season_20                    float64\n",
       " season_21                    float64\n",
       " season_x                       int64\n",
       " team_x                        object\n",
       " position_x_x                  object\n",
       " status                        object\n",
       " height                       float64\n",
       " weight                       float64\n",
       " birth_date                    object\n",
       " age_at_injury                float64\n",
       " years_exp                    float64\n",
       " injury_category               object\n",
       " report_primary_injury_x       object\n",
       " report_secondary_injury       object\n",
       " practice_primary_injury       object\n",
       " practice_secondary_injury     object\n",
       " report_status_x               object\n",
       " practice_status_x             object\n",
       " days_since_last_injury       float64\n",
       " previous_injuries_count        int64\n",
       " dtype: object)"
      ]
     },
     "execution_count": 5,
     "metadata": {},
     "output_type": "execute_result"
    }
   ],
   "source": [
    "# Checking for missing values\n",
    "missing_values = data.isnull().sum()\n",
    "\n",
    "# Checking data types\n",
    "data_types = data.dtypes\n",
    "\n",
    "missing_values, data_types"
   ]
  },
  {
   "cell_type": "code",
   "execution_count": 7,
   "metadata": {},
   "outputs": [
    {
     "data": {
      "text/plain": [
       "(full_name                         0\n",
       " gsis_id                           0\n",
       " season_20                         0\n",
       " season_x                          0\n",
       " team_x                            0\n",
       " position_x_x                      0\n",
       " status                            0\n",
       " height                            0\n",
       " weight                            0\n",
       " birth_date                        0\n",
       " age_at_injury                     0\n",
       " years_exp                         0\n",
       " injury_category                   0\n",
       " report_primary_injury_x       63609\n",
       " report_secondary_injury      119586\n",
       " practice_primary_injury         772\n",
       " practice_secondary_injury    113751\n",
       " report_status_x               63609\n",
       " practice_status_x                 0\n",
       " days_since_last_injury            0\n",
       " previous_injuries_count           0\n",
       " dtype: int64,\n",
       " full_name                         0\n",
       " gsis_id                           0\n",
       " season_21                         0\n",
       " season_x                          0\n",
       " team_x                            0\n",
       " position_x_x                      0\n",
       " status                            0\n",
       " height                            0\n",
       " weight                            0\n",
       " birth_date                        0\n",
       " age_at_injury                     0\n",
       " years_exp                         0\n",
       " injury_category                   0\n",
       " report_primary_injury_x       72275\n",
       " report_secondary_injury      139919\n",
       " practice_primary_injury         573\n",
       " practice_secondary_injury    132745\n",
       " report_status_x               72275\n",
       " practice_status_x                 0\n",
       " days_since_last_injury            0\n",
       " previous_injuries_count           0\n",
       " dtype: int64,\n",
       " (126124, 21),\n",
       " (148138, 21))"
      ]
     },
     "execution_count": 7,
     "metadata": {},
     "output_type": "execute_result"
    }
   ],
   "source": [
    "# Creating separate datasets for each season\n",
    "data_season_20 = data.dropna(subset=['season_20']).drop(columns=['season_21'])\n",
    "data_season_21 = data.dropna(subset=['season_21']).drop(columns=['season_20'])\n",
    "\n",
    "# Checking for any remaining missing values in both datasets\n",
    "missing_values_20 = data_season_20.isnull().sum()\n",
    "missing_values_21 = data_season_21.isnull().sum()\n",
    "\n",
    "missing_values_20, missing_values_21, data_season_20.shape, data_season_21.shape\n",
    "\n"
   ]
  },
  {
   "cell_type": "code",
   "execution_count": 8,
   "metadata": {},
   "outputs": [
    {
     "data": {
      "text/plain": [
       "((126124, 21), (148138, 21))"
      ]
     },
     "execution_count": 8,
     "metadata": {},
     "output_type": "execute_result"
    }
   ],
   "source": [
    "# Filling missing values for injury-related columns with 'No Injury'\n",
    "injury_columns = ['report_primary_injury_x', 'report_secondary_injury', \n",
    "                  'practice_primary_injury', 'practice_secondary_injury', 'report_status_x']\n",
    "\n",
    "for col in injury_columns:\n",
    "    data_season_20[col].fillna('No Injury', inplace=True)\n",
    "    data_season_21[col].fillna('No Injury', inplace=True)\n",
    "\n",
    "# Dropping rows where both practice and report injury data are missing\n",
    "data_season_20_clean = data_season_20.dropna(subset=['report_primary_injury_x', 'practice_primary_injury'])\n",
    "data_season_21_clean = data_season_21.dropna(subset=['report_primary_injury_x', 'practice_primary_injury'])\n",
    "\n",
    "# Checking the shapes of the cleaned datasets\n",
    "data_season_20_clean_shape = data_season_20_clean.shape\n",
    "data_season_21_clean_shape = data_season_21_clean.shape\n",
    "\n",
    "data_season_20_clean_shape, data_season_21_clean_shape\n"
   ]
  },
  {
   "cell_type": "code",
   "execution_count": 9,
   "metadata": {},
   "outputs": [
    {
     "data": {
      "text/plain": [
       "(full_name                     object\n",
       " gsis_id                       object\n",
       " season_20                    float64\n",
       " season_x                       int64\n",
       " team_x                        object\n",
       " position_x_x                  object\n",
       " status                        object\n",
       " height                       float64\n",
       " weight                       float64\n",
       " birth_date                    object\n",
       " age_at_injury                float64\n",
       " years_exp                    float64\n",
       " injury_category               object\n",
       " report_primary_injury_x       object\n",
       " report_secondary_injury       object\n",
       " practice_primary_injury       object\n",
       " practice_secondary_injury     object\n",
       " report_status_x               object\n",
       " practice_status_x             object\n",
       " days_since_last_injury       float64\n",
       " previous_injuries_count        int64\n",
       " dtype: object,\n",
       " full_name                     object\n",
       " gsis_id                       object\n",
       " season_21                    float64\n",
       " season_x                       int64\n",
       " team_x                        object\n",
       " position_x_x                  object\n",
       " status                        object\n",
       " height                       float64\n",
       " weight                       float64\n",
       " birth_date                    object\n",
       " age_at_injury                float64\n",
       " years_exp                    float64\n",
       " injury_category               object\n",
       " report_primary_injury_x       object\n",
       " report_secondary_injury       object\n",
       " practice_primary_injury       object\n",
       " practice_secondary_injury     object\n",
       " report_status_x               object\n",
       " practice_status_x             object\n",
       " days_since_last_injury       float64\n",
       " previous_injuries_count        int64\n",
       " dtype: object)"
      ]
     },
     "execution_count": 9,
     "metadata": {},
     "output_type": "execute_result"
    }
   ],
   "source": [
    "# Checking current data types for both datasets\n",
    "data_types_season_20 = data_season_20_clean.dtypes\n",
    "data_types_season_21 = data_season_21_clean.dtypes\n",
    "\n",
    "data_types_season_20, data_types_season_21\n"
   ]
  },
  {
   "cell_type": "code",
   "execution_count": 10,
   "metadata": {},
   "outputs": [
    {
     "data": {
      "text/plain": [
       "((126124, 231), (148138, 244))"
      ]
     },
     "execution_count": 10,
     "metadata": {},
     "output_type": "execute_result"
    }
   ],
   "source": [
    "# Converting 'birth_date' to datetime format\n",
    "data_season_20_clean['birth_date'] = pd.to_datetime(data_season_20_clean['birth_date'], errors='coerce')\n",
    "data_season_21_clean['birth_date'] = pd.to_datetime(data_season_21_clean['birth_date'], errors='coerce')\n",
    "\n",
    "# Creating dummy variables for categorical columns in both datasets\n",
    "categorical_columns = ['team_x', 'position_x_x', 'status', 'injury_category', \n",
    "                       'report_primary_injury_x', 'report_secondary_injury', \n",
    "                       'practice_primary_injury', 'practice_secondary_injury', \n",
    "                       'report_status_x', 'practice_status_x']\n",
    "\n",
    "data_season_20_dummies = pd.get_dummies(data_season_20_clean, columns=categorical_columns, drop_first=True)\n",
    "data_season_21_dummies = pd.get_dummies(data_season_21_clean, columns=categorical_columns, drop_first=True)\n",
    "\n",
    "# Checking the shapes of the new datasets with dummy variables\n",
    "data_season_20_dummies_shape = data_season_20_dummies.shape\n",
    "data_season_21_dummies_shape = data_season_21_dummies.shape\n",
    "\n",
    "data_season_20_dummies_shape, data_season_21_dummies_shape\n"
   ]
  },
  {
   "cell_type": "code",
   "execution_count": 11,
   "metadata": {},
   "outputs": [
    {
     "data": {
      "text/plain": [
       "(       season_20  season_x         height         weight  \\\n",
       " count   126124.0  126124.0  126124.000000  126124.000000   \n",
       " mean      2020.0    2022.0      74.014391     243.170301   \n",
       " min       2020.0    2022.0      66.000000     170.000000   \n",
       " 25%       2020.0    2022.0      72.000000     202.000000   \n",
       " 50%       2020.0    2022.0      74.000000     223.000000   \n",
       " 75%       2020.0    2022.0      76.000000     300.000000   \n",
       " max       2020.0    2022.0      80.000000     352.000000   \n",
       " std          0.0       0.0       2.768691      49.226446   \n",
       " \n",
       "                           birth_date  age_at_injury      years_exp  \\\n",
       " count                         126124  126124.000000  126124.000000   \n",
       " mean   1994-03-23 18:55:59.436744576      28.381529       5.901946   \n",
       " min              1982-01-22 00:00:00      23.000000       0.000000   \n",
       " 25%              1992-04-21 00:00:00      26.000000       4.000000   \n",
       " 50%              1994-08-17 00:00:00      28.000000       5.000000   \n",
       " 75%              1996-06-07 00:00:00      30.000000       8.000000   \n",
       " max              1999-07-26 00:00:00      41.000000      18.000000   \n",
       " std                              NaN       3.060416       2.994033   \n",
       " \n",
       "        days_since_last_injury  previous_injuries_count  \n",
       " count           126124.000000            126124.000000  \n",
       " mean                 0.547255                83.593527  \n",
       " min                  0.000000                 0.000000  \n",
       " 25%                  0.000000                25.000000  \n",
       " 50%                  0.000000                61.000000  \n",
       " 75%                  0.000000               118.000000  \n",
       " max                105.000000               417.000000  \n",
       " std                  3.864544                75.989654  ,\n",
       "        season_21  season_x         height         weight  \\\n",
       " count   148138.0  148138.0  148138.000000  148138.000000   \n",
       " mean      2021.0    2022.0      74.300220     249.582470   \n",
       " min       2021.0    2022.0      66.000000     170.000000   \n",
       " 25%       2021.0    2022.0      72.000000     208.000000   \n",
       " 50%       2021.0    2022.0      74.000000     233.000000   \n",
       " 75%       2021.0    2022.0      77.000000     304.000000   \n",
       " max       2021.0    2022.0      80.000000     352.000000   \n",
       " std          0.0       0.0       2.732158      50.230351   \n",
       " \n",
       "                           birth_date  age_at_injury      years_exp  \\\n",
       " count                         148138  148138.000000  148138.000000   \n",
       " mean   1994-10-14 06:00:28.870377600      27.772125       5.354730   \n",
       " min              1982-01-22 00:00:00      22.000000       1.000000   \n",
       " 25%              1992-05-14 00:00:00      25.000000       3.000000   \n",
       " 50%              1995-06-10 00:00:00      27.000000       5.000000   \n",
       " 75%              1997-05-25 00:00:00      30.000000       8.000000   \n",
       " max              2000-10-09 00:00:00      41.000000      18.000000   \n",
       " std                              NaN       3.323952       3.192235   \n",
       " \n",
       "        days_since_last_injury  previous_injuries_count  \n",
       " count           148138.000000            148138.000000  \n",
       " mean                 0.560471                81.183586  \n",
       " min                  0.000000                 0.000000  \n",
       " 25%                  0.000000                24.000000  \n",
       " 50%                  0.000000                58.000000  \n",
       " 75%                  0.000000               115.000000  \n",
       " max                105.000000               395.000000  \n",
       " std                  4.020544                75.275891  )"
      ]
     },
     "execution_count": 11,
     "metadata": {},
     "output_type": "execute_result"
    }
   ],
   "source": [
    "# Getting the statistical summary for both datasets\n",
    "statistical_summary_20 = data_season_20_dummies.describe()\n",
    "statistical_summary_21 = data_season_21_dummies.describe()\n",
    "\n",
    "statistical_summary_20, statistical_summary_21\n"
   ]
  },
  {
   "cell_type": "code",
   "execution_count": 12,
   "metadata": {},
   "outputs": [
    {
     "data": {
      "text/plain": [
       "(11573, 13184)"
      ]
     },
     "execution_count": 12,
     "metadata": {},
     "output_type": "execute_result"
    }
   ],
   "source": [
    "# Function to detect outliers using IQR\n",
    "def detect_outliers(df, columns):\n",
    "    outlier_indices = []\n",
    "\n",
    "    for col in columns:\n",
    "        Q1 = np.percentile(df[col], 25)\n",
    "        Q3 = np.percentile(df[col], 75)\n",
    "        IQR = Q3 - Q1\n",
    "        outlier_step = 1.5 * IQR\n",
    "\n",
    "        # Determine a list of indices of outliers for feature col\n",
    "        outlier_list_col = df[(df[col] < Q1 - outlier_step) | (df[col] > Q3 + outlier_step)].index\n",
    "        outlier_indices.extend(outlier_list_col)\n",
    "\n",
    "    # Select observations containing more than one outlier\n",
    "    outlier_indices = list(set(outlier_indices))\n",
    "    return outlier_indices\n",
    "\n",
    "# Columns to check for outliers\n",
    "numerical_columns = ['height', 'weight', 'age_at_injury', 'years_exp', 'days_since_last_injury', 'previous_injuries_count']\n",
    "\n",
    "# Detecting outliers in Season 20 and Season 21 datasets\n",
    "outliers_20 = detect_outliers(data_season_20_dummies, numerical_columns)\n",
    "outliers_21 = detect_outliers(data_season_21_dummies, numerical_columns)\n",
    "\n",
    "len(outliers_20), len(outliers_21)\n"
   ]
  },
  {
   "cell_type": "code",
   "execution_count": 31,
   "metadata": {},
   "outputs": [],
   "source": [
    "# Removing outliers from both datasets\n",
    "data_season_20_no_outliers = data_season_20_dummies.drop(outliers_20)\n",
    "data_season_21_no_outliers = data_season_21_dummies.drop(outliers_21)\n",
    "\n",
    "# Standardizing numerical features in both datasets\n",
    "scaler = StandardScaler()\n",
    "numerical_features = data_season_20_no_outliers[numerical_columns]\n",
    "data_season_20_no_outliers[numerical_columns] = scaler.fit_transform(numerical_features)\n",
    "\n",
    "numerical_features = data_season_21_no_outliers[numerical_columns]\n",
    "data_season_21_no_outliers[numerical_columns] = scaler.fit_transform(numerical_features)\n",
    "\n",
    "# Checking the shapes of the datasets after outlier removal and standardization\n",
    "final_shape_20 = data_season_20_no_outliers.shape\n",
    "final_shape_21 = data_season_21_no_outliers.shape\n",
    "\n",
    "final_shape_20, final_shape_21\n",
    "data_season_20_no_outliers.to_csv('../4_FeatureEngineering/src/feature_no_outliers_20.csv')\n",
    "data_season_21_no_outliers.to_csv('../4_FeatureEngineering/src/feature_no_outliers_21.csv')"
   ]
  },
  {
   "cell_type": "code",
   "execution_count": 23,
   "metadata": {},
   "outputs": [
    {
     "name": "stdout",
     "output_type": "stream",
     "text": [
      "['full_name', 'gsis_id', 'season_21', 'season_x', 'height', 'weight', 'birth_date', 'age_at_injury', 'years_exp', 'days_since_last_injury', 'previous_injuries_count', 'team_x_ATL', 'team_x_BAL', 'team_x_BUF', 'team_x_CAR', 'team_x_CHI', 'team_x_CIN', 'team_x_CLE', 'team_x_DAL', 'team_x_DEN', 'team_x_DET', 'team_x_GB', 'team_x_HOU', 'team_x_IND', 'team_x_JAX', 'team_x_KC', 'team_x_LA', 'team_x_LAC', 'team_x_LV', 'team_x_MIA', 'team_x_MIN', 'team_x_NE', 'team_x_NO', 'team_x_NYG', 'team_x_NYJ', 'team_x_PHI', 'team_x_PIT', 'team_x_SEA', 'team_x_SF', 'team_x_TB', 'team_x_TEN', 'team_x_WAS', 'position_x_x_CB', 'position_x_x_DE', 'position_x_x_DT', 'position_x_x_FB', 'position_x_x_G', 'position_x_x_K', 'position_x_x_LB', 'position_x_x_LS', 'position_x_x_P', 'position_x_x_QB', 'position_x_x_RB', 'position_x_x_S', 'position_x_x_T', 'position_x_x_TE', 'position_x_x_WR', 'status_CUT', 'status_DEV', 'status_INA', 'status_RES', 'status_TRC', 'injury_category_Other', 'injury_category_Upper Body', 'report_primary_injury_x_Achilles', 'report_primary_injury_x_Ankle', 'report_primary_injury_x_Back', 'report_primary_injury_x_Biceps', 'report_primary_injury_x_Calf', 'report_primary_injury_x_Chest', 'report_primary_injury_x_Concussion', 'report_primary_injury_x_Elbow', 'report_primary_injury_x_Finger', 'report_primary_injury_x_Foot', 'report_primary_injury_x_Glute', 'report_primary_injury_x_Groin', 'report_primary_injury_x_Hamstring', 'report_primary_injury_x_Hand', 'report_primary_injury_x_Heel', 'report_primary_injury_x_Hip', 'report_primary_injury_x_Illness', 'report_primary_injury_x_Knee', 'report_primary_injury_x_Neck', 'report_primary_injury_x_No Injury', 'report_primary_injury_x_Not injury related - did not travel', 'report_primary_injury_x_Not injury related - other', 'report_primary_injury_x_Not injury related - personal matter', 'report_primary_injury_x_Not injury related - resting player', 'report_primary_injury_x_Oblique', 'report_primary_injury_x_Pectoral', 'report_primary_injury_x_Quadricep', 'report_primary_injury_x_Rib', 'report_primary_injury_x_Ribs', 'report_primary_injury_x_Shin', 'report_primary_injury_x_Shoulder', 'report_primary_injury_x_Thigh', 'report_primary_injury_x_Throat', 'report_primary_injury_x_Thumb', 'report_primary_injury_x_Toe', 'report_primary_injury_x_Toe, Pec, Knee, Hip', 'report_primary_injury_x_Triceps', 'report_primary_injury_x_Wrist', 'report_primary_injury_x_ankle, knee, elbow', 'report_primary_injury_x_left Shoulder', 'report_primary_injury_x_right Finger', 'report_primary_injury_x_right Groin', 'report_primary_injury_x_right Shoulder', 'report_primary_injury_x_right Thumb', 'report_primary_injury_x_toe, pec, knee, hip', 'report_secondary_injury_Achilles', 'report_secondary_injury_Ankle', 'report_secondary_injury_Back', 'report_secondary_injury_Back Foot', 'report_secondary_injury_Back, Ankle', 'report_secondary_injury_Biceps', 'report_secondary_injury_Calf', 'report_secondary_injury_Concussion', 'report_secondary_injury_Elbow Knee', 'report_secondary_injury_Foot', 'report_secondary_injury_Glute', 'report_secondary_injury_Groin', 'report_secondary_injury_Hamstring', 'report_secondary_injury_Hand', 'report_secondary_injury_Heel', 'report_secondary_injury_Hip', 'report_secondary_injury_Illness', 'report_secondary_injury_Knee', 'report_secondary_injury_Neck', 'report_secondary_injury_No Injury', 'report_secondary_injury_Nose, Back', 'report_secondary_injury_Not injury related - personal matter', 'report_secondary_injury_Not injury related - resting player', 'report_secondary_injury_Pec / Knee', 'report_secondary_injury_Pec, Knee', 'report_secondary_injury_Pectoral', 'report_secondary_injury_Quadricep', 'report_secondary_injury_Ribs', 'report_secondary_injury_Shin', 'report_secondary_injury_Shoulder', 'report_secondary_injury_Wrist', 'report_secondary_injury_elbow, knee', 'report_secondary_injury_nose, back', 'report_secondary_injury_right Finger', 'practice_primary_injury_Achilles', 'practice_primary_injury_Ankle', 'practice_primary_injury_Back', 'practice_primary_injury_Biceps', 'practice_primary_injury_Calf', 'practice_primary_injury_Chest', 'practice_primary_injury_Concussion', 'practice_primary_injury_Elbow', 'practice_primary_injury_Eye', 'practice_primary_injury_Finger', 'practice_primary_injury_Foot', 'practice_primary_injury_Forearm', 'practice_primary_injury_Glute', 'practice_primary_injury_Groin', 'practice_primary_injury_Hamstring', 'practice_primary_injury_Hand', 'practice_primary_injury_Head', 'practice_primary_injury_Heel', 'practice_primary_injury_Hip', 'practice_primary_injury_Illness', 'practice_primary_injury_Knee', 'practice_primary_injury_Neck', 'practice_primary_injury_No Injury', 'practice_primary_injury_Not Injury Related - Travel', 'practice_primary_injury_Not injury related - did not travel', 'practice_primary_injury_Not injury related - other', 'practice_primary_injury_Not injury related - personal matter', 'practice_primary_injury_Not injury related - resting player', 'practice_primary_injury_Not injury related - travel', 'practice_primary_injury_Oblique', 'practice_primary_injury_Pectoral', 'practice_primary_injury_Quadricep', 'practice_primary_injury_Rib', 'practice_primary_injury_Ribs', 'practice_primary_injury_Shin', 'practice_primary_injury_Shoulder', 'practice_primary_injury_Thigh', 'practice_primary_injury_Throat', 'practice_primary_injury_Thumb', 'practice_primary_injury_Toe', 'practice_primary_injury_Toe, Pec, Knee, Hip', 'practice_primary_injury_Tooth', 'practice_primary_injury_Triceps', 'practice_primary_injury_Wrist', 'practice_primary_injury_ankle, knee, elbow', 'practice_primary_injury_left Hand', 'practice_primary_injury_left Shoulder', 'practice_primary_injury_not injury related - travel', 'practice_primary_injury_right Elbow', 'practice_primary_injury_right Finger', 'practice_primary_injury_right Groin', 'practice_primary_injury_right Knee', 'practice_primary_injury_right Shoulder', 'practice_primary_injury_right Thumb', 'practice_primary_injury_shoulder, biceps, hand', 'practice_secondary_injury_Achilles', 'practice_secondary_injury_Ankle', 'practice_secondary_injury_Back', 'practice_secondary_injury_Back Foot', 'practice_secondary_injury_Back, Ankle', 'practice_secondary_injury_Biceps', 'practice_secondary_injury_Calf', 'practice_secondary_injury_Chest', 'practice_secondary_injury_Concussion', 'practice_secondary_injury_Elbow', 'practice_secondary_injury_Elbow Ankle', 'practice_secondary_injury_Elbow Knee', 'practice_secondary_injury_Foot', 'practice_secondary_injury_Glute', 'practice_secondary_injury_Groin', 'practice_secondary_injury_Hamstring', 'practice_secondary_injury_Hand', 'practice_secondary_injury_Heel', 'practice_secondary_injury_Hip', 'practice_secondary_injury_Illness', 'practice_secondary_injury_Knee', 'practice_secondary_injury_Neck', 'practice_secondary_injury_No Injury', 'practice_secondary_injury_Nose, Back', 'practice_secondary_injury_Not injury related - personal ', 'practice_secondary_injury_Not injury related - resting p', 'practice_secondary_injury_Pec / Knee', 'practice_secondary_injury_Pec, Knee', 'practice_secondary_injury_Pectoral', 'practice_secondary_injury_Quadricep', 'practice_secondary_injury_Rib', 'practice_secondary_injury_Ribs', 'practice_secondary_injury_Shin', 'practice_secondary_injury_Shoulder', 'practice_secondary_injury_Thigh', 'practice_secondary_injury_Toe', 'practice_secondary_injury_Wrist', 'practice_secondary_injury_elbow, knee', 'practice_secondary_injury_nose, back', 'practice_secondary_injury_right Finger', 'report_status_x_No Injury', 'report_status_x_Out', 'report_status_x_Questionable', 'practice_status_x_Did Not Participate In Practice', 'practice_status_x_Full Participation in Practice', 'practice_status_x_Limited Participation in Practice']\n"
     ]
    }
   ],
   "source": [
    "print(data_season_21_no_outliers.columns.tolist())"
   ]
  },
  {
   "cell_type": "code",
   "execution_count": 26,
   "metadata": {},
   "outputs": [
    {
     "name": "stdout",
     "output_type": "stream",
     "text": [
      "Accuracy: 0.9812530102626802\n"
     ]
    }
   ],
   "source": [
    "\n",
    "# Excluding non-numerical columns\n",
    "excluded_columns = ['full_name', 'gsis_id', 'birth_date']  # Add any other non-numerical columns\n",
    "X = data_season_21_no_outliers.drop(['report_status_x_Out'] + excluded_columns, axis=1)\n",
    "\n",
    "# Target variable\n",
    "y = data_season_21_no_outliers['report_status_x_Out']\n",
    "\n",
    "# Splitting the data into training and testing sets\n",
    "X_train, X_test, y_train, y_test = train_test_split(X, y, test_size=0.2, random_state=42)\n",
    "\n",
    "# Creating the logistic regression model\n",
    "model = LogisticRegression(max_iter=5000)  # Increasing max_iter for convergence\n",
    "\n",
    "# Training the model\n",
    "model.fit(X_train, y_train)\n",
    "\n",
    "# Making predictions\n",
    "y_pred = model.predict(X_test)\n",
    "\n",
    "# Evaluating the model\n",
    "accuracy = accuracy_score(y_test, y_pred)\n",
    "print(f'Accuracy: {accuracy}')\n"
   ]
  },
  {
   "cell_type": "code",
   "execution_count": 27,
   "metadata": {},
   "outputs": [
    {
     "name": "stdout",
     "output_type": "stream",
     "text": [
      "Training Accuracy: 0.9822994914924558\n",
      "Test Accuracy: 0.9812530102626802\n"
     ]
    }
   ],
   "source": [
    "# Training performance\n",
    "y_train_pred = model.predict(X_train)\n",
    "train_accuracy = accuracy_score(y_train, y_train_pred)\n",
    "\n",
    "# Test performance\n",
    "y_test_pred = model.predict(X_test)\n",
    "test_accuracy = accuracy_score(y_test, y_test_pred)\n",
    "\n",
    "print(f'Training Accuracy: {train_accuracy}')\n",
    "print(f'Test Accuracy: {test_accuracy}')\n"
   ]
  },
  {
   "cell_type": "code",
   "execution_count": 29,
   "metadata": {},
   "outputs": [
    {
     "name": "stdout",
     "output_type": "stream",
     "text": [
      "Cross-Validation Accuracy Scores: [0.96839687 0.94509281 0.96454374 0.93505242 0.95676176]\n",
      "Average Cross-Validation Accuracy: 0.9539695214090891\n"
     ]
    }
   ],
   "source": [
    "# Cross-validation\n",
    "cross_val_scores = cross_val_score(model, X, y, cv=5)  # 5-fold cross-validation\n",
    "\n",
    "print(f'Cross-Validation Accuracy Scores: {cross_val_scores}')\n",
    "print(f'Average Cross-Validation Accuracy: {np.mean(cross_val_scores)}')"
   ]
  },
  {
   "cell_type": "code",
   "execution_count": 30,
   "metadata": {},
   "outputs": [
    {
     "data": {
      "image/png": "[encoded data removed]",
      "text/plain": [
       "<Figure size 640x480 with 1 Axes>"
      ]
     },
     "metadata": {},
     "output_type": "display_data"
    }
   ],
   "source": [
    "train_sizes, train_scores, test_scores = learning_curve(\n",
    "    model, X, y, cv=5, n_jobs=-1, \n",
    "    train_sizes=np.linspace(.1, 1.0, 5))\n",
    "\n",
    "# Mean and Standard Deviation of training and test scores\n",
    "train_mean = np.mean(train_scores, axis=1)\n",
    "train_std = np.std(train_scores, axis=1)\n",
    "test_mean = np.mean(test_scores, axis=1)\n",
    "test_std = np.std(test_scores, axis=1)\n",
    "\n",
    "# Plotting the learning curves\n",
    "plt.plot(train_sizes, train_mean, label='Training score')\n",
    "plt.plot(train_sizes, test_mean, label='Cross-validation score')\n",
    "plt.fill_between(train_sizes, train_mean - train_std, train_mean + train_std, alpha=0.1)\n",
    "plt.fill_between(train_sizes, test_mean - test_std, test_mean + test_std, alpha=0.1)\n",
    "plt.title('Learning curves')\n",
    "plt.xlabel('Training examples')\n",
    "plt.ylabel('Score')\n",
    "plt.legend()\n",
    "plt.show()\n"
   ]
  },
  {
   "cell_type": "code",
   "execution_count": 41,
   "metadata": {},
   "outputs": [],
   "source": [
    "y_pred = model.predict(X_test)\n",
    "y_proba = model.predict_proba(X_test)\n",
    "\n",
    "results_df = pd.DataFrame({\n",
    "    'Actual': y_test,\n",
    "    'Predicted': y_pred,\n",
    "    'Probability_0': y_proba[:, 0],\n",
    "    'Probability_1': y_proba[:, 1]\n",
    "})\n",
    "# After creating results_df with predictions and probabilities\n",
    "metrics = pd.DataFrame({\n",
    "    'Metric': ['Accuracy', 'Precision', 'Recall', 'ROC AUC'],\n",
    "    'Value': [accuracy, precision, recall, roc_auc]\n",
    "})\n",
    "\n",
    "# Combining results with metrics\n",
    "final_df = pd.concat([results_df, metrics], ignore_index=True)\n",
    "\n",
    "# Now you can export final_df to CSV\n",
    "final_df.to_csv('./reports/results.csv', index=False)\n",
    "\n"
   ]
  },
  {
   "cell_type": "code",
   "execution_count": null,
   "metadata": {},
   "outputs": [],
   "source": []
  }
 ],
 "metadata": {
  "kernelspec": {
   "display_name": "dsi",
   "language": "python",
   "name": "python3"
  },
  "language_info": {
   "codemirror_mode": {
    "name": "ipython",
    "version": 3
   },
   "file_extension": ".py",
   "mimetype": "text/x-python",
   "name": "python",
   "nbconvert_exporter": "python",
   "pygments_lexer": "ipython3",
   "version": "3.9.18"
  }
 },
 "nbformat": 4,
 "nbformat_minor": 2
}
